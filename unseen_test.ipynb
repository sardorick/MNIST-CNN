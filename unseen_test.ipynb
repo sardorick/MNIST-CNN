{
 "cells": [
  {
   "cell_type": "code",
   "execution_count": 3,
   "metadata": {},
   "outputs": [],
   "source": [
    "import matplotlib.pyplot as plt\n",
    "import numpy as np\n",
    "import torch\n",
    "import torch.nn.functional as F\n",
    "from model import CNN\n",
    "from PIL import Image, ImageFilter\n"
   ]
  },
  {
   "cell_type": "code",
   "execution_count": 2,
   "metadata": {},
   "outputs": [
    {
     "data": {
      "text/plain": [
       "<All keys matched successfully>"
      ]
     },
     "execution_count": 2,
     "metadata": {},
     "output_type": "execute_result"
    }
   ],
   "source": [
    "trained_model = torch.load('model_trained.pth')\n",
    "model = CNN()\n",
    "model.load_state_dict(trained_model)\n"
   ]
  },
  {
   "cell_type": "code",
   "execution_count": 29,
   "metadata": {},
   "outputs": [],
   "source": [
    "def im_resize(image=str):\n",
    "    im = Image.open(image).convert('L')\n",
    "    width = float(im.size[0])\n",
    "    height = float(im.size[1])\n",
    "    new_image = Image.new('L', (28, 28), (255))\n",
    "    if width > height:\n",
    "        nheight = int(round((20.0 / height * width), 0))\n",
    "        if (nheight == 0):\n",
    "            nheight = 1\n",
    "        img = im.resize((20, nheight), Image.ANTIALIAS).filter(ImageFilter.SHARPEN)\n",
    "        wtop = int(round(((20.0-nheight)/2), 0))\n",
    "        new_image.paste(img, (4, wtop))\n",
    "    else:\n",
    "        nwidth = int(round((20.0 / height * width), 0))\n",
    "        if (nwidth == 0):\n",
    "            nwidth = 1\n",
    "        img = im.resize((nwidth, 20), Image.ANTIALIAS).filter(ImageFilter.SHARPEN)\n",
    "        wleft = int(round(((28 - width) / 2), 0))\n",
    "        new_image.paste(img, (wleft, 4))\n",
    "    \n",
    "    pixels = list(new_image.getdata())\n",
    "    pixels_normal = [(255-x) * 1.0/255.0 for x in pixels]\n",
    "\n",
    "    normal_shape = np.reshape(pixels_normal, (1, 28, 28))\n",
    "    output = torch.FloatTensor(normal_shape).unsqueeze(dim=0)\n",
    "    return output"
   ]
  },
  {
   "cell_type": "code",
   "execution_count": 30,
   "metadata": {},
   "outputs": [
    {
     "data": {
      "text/plain": [
       "torch.Size([1, 1, 28, 28])"
      ]
     },
     "execution_count": 30,
     "metadata": {},
     "output_type": "execute_result"
    }
   ],
   "source": [
    "input_image = im_resize('/Users/szokirov/Documents/Screen Shot 2022-06-09 at 00.49.43.png')\n",
    "input_image.shape"
   ]
  },
  {
   "cell_type": "code",
   "execution_count": 35,
   "metadata": {},
   "outputs": [
    {
     "name": "stdout",
     "output_type": "stream",
     "text": [
      "The number in the photo is 2\n"
     ]
    }
   ],
   "source": [
    "prediction = torch.argmax(model.forward(input_image))\n",
    "print(f\"The number in the photo is {prediction.item()}\")\n"
   ]
  },
  {
   "cell_type": "code",
   "execution_count": 36,
   "metadata": {},
   "outputs": [],
   "source": [
    "input_2 = im_resize('/Users/szokirov/Downloads/CF1ze.jpeg')"
   ]
  },
  {
   "cell_type": "code",
   "execution_count": 37,
   "metadata": {},
   "outputs": [
    {
     "name": "stdout",
     "output_type": "stream",
     "text": [
      "The number in the photo is 2\n"
     ]
    }
   ],
   "source": [
    "pred = torch.argmax(model.forward(input_2))\n",
    "print(f\"The number in the photo is {pred.item()}\")\n"
   ]
  },
  {
   "cell_type": "code",
   "execution_count": 33,
   "metadata": {},
   "outputs": [],
   "source": [
    "input_3 = im_resize('/Users/szokirov/Downloads/N98PK.jpeg')"
   ]
  },
  {
   "cell_type": "code",
   "execution_count": 38,
   "metadata": {},
   "outputs": [
    {
     "name": "stdout",
     "output_type": "stream",
     "text": [
      "The number in the photo is 2\n"
     ]
    }
   ],
   "source": [
    "pred_2 = torch.argmax(model.forward(input_3))\n",
    "print(f\"The number in the photo is {pred_2.item()}\")"
   ]
  },
  {
   "cell_type": "code",
   "execution_count": null,
   "metadata": {},
   "outputs": [],
   "source": []
  }
 ],
 "metadata": {
  "interpreter": {
   "hash": "ca8f6b5f123c7a59b929f2bd842cbcbe55ef2152c28aa1a821d0e827bd3e9b45"
  },
  "kernelspec": {
   "display_name": "Python 3.10.4 ('myenv')",
   "language": "python",
   "name": "python3"
  },
  "language_info": {
   "codemirror_mode": {
    "name": "ipython",
    "version": 3
   },
   "file_extension": ".py",
   "mimetype": "text/x-python",
   "name": "python",
   "nbconvert_exporter": "python",
   "pygments_lexer": "ipython3",
   "version": "3.10.2"
  },
  "orig_nbformat": 4
 },
 "nbformat": 4,
 "nbformat_minor": 2
}
